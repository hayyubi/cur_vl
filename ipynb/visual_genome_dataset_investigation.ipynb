{
 "cells": [
  {
   "cell_type": "markdown",
   "metadata": {},
   "source": [
    "# Visual Genome Dataset Investigation"
   ]
  },
  {
   "cell_type": "code",
   "execution_count": 1,
   "metadata": {},
   "outputs": [],
   "source": [
    "import json\n",
    "import pickle\n",
    "import numpy as np\n",
    "import seaborn as sns\n",
    "import matplotlib.pyplot as plt"
   ]
  },
  {
   "cell_type": "code",
   "execution_count": 2,
   "metadata": {},
   "outputs": [],
   "source": [
    "from transformers.tokenization_bert import BasicTokenizer\n",
    "import nltk\n",
    "import torch\n",
    "from pycocotools.coco import COCO"
   ]
  },
  {
   "cell_type": "code",
   "execution_count": 3,
   "metadata": {},
   "outputs": [],
   "source": [
    "from maskrcnn_benchmark.config import cfg\n",
    "from maskrcnn_benchmark.modeling.language_backbone.transformers import BERT"
   ]
  },
  {
   "cell_type": "code",
   "execution_count": 4,
   "metadata": {},
   "outputs": [],
   "source": [
    "ann_file = '../datasets/coco/annotations/captions_train2017.json'\n",
    "with open(ann_file, 'r') as fin:\n",
    "    coco_train_anno_all = json.load(fin)"
   ]
  },
  {
   "cell_type": "code",
   "execution_count": 5,
   "metadata": {},
   "outputs": [
    {
     "data": {
      "text/plain": [
       "591753"
      ]
     },
     "execution_count": 5,
     "metadata": {},
     "output_type": "execute_result"
    }
   ],
   "source": [
    "len(coco_train_anno_all['annotations'])"
   ]
  },
  {
   "cell_type": "code",
   "execution_count": 6,
   "metadata": {},
   "outputs": [
    {
     "name": "stdout",
     "output_type": "stream",
     "text": [
      "{'image_id': 203564, 'id': 37, 'caption': 'A bicycle replica with a clock as the front wheel.'}\n"
     ]
    }
   ],
   "source": [
    "print(coco_train_anno_all['annotations'][0])"
   ]
  },
  {
   "cell_type": "code",
   "execution_count": 7,
   "metadata": {},
   "outputs": [
    {
     "name": "stdout",
     "output_type": "stream",
     "text": [
      "5\n"
     ]
    }
   ],
   "source": [
    "count=1\n",
    "id=coco_train_anno_all['annotations'][0]['image_id']\n",
    "for item in coco_train_anno_all['annotations'][1:]:\n",
    "    if item['image_id'] == id:\n",
    "        count += 1\n",
    "print(count)"
   ]
  },
  {
   "cell_type": "code",
   "execution_count": 8,
   "metadata": {},
   "outputs": [],
   "source": [
    "tokenizer = BasicTokenizer(do_lower_case=True)"
   ]
  },
  {
   "cell_type": "code",
   "execution_count": 9,
   "metadata": {},
   "outputs": [
    {
     "data": {
      "text/plain": [
       "[('he', 'PRP'), ('takes', 'VBZ'), ('a', 'DT'), ('banana', 'NN'), ('.', '.')]"
      ]
     },
     "execution_count": 9,
     "metadata": {},
     "output_type": "execute_result"
    }
   ],
   "source": [
    "nltk.pos_tag(tokenizer.tokenize(\"He takes a banana.\"))"
   ]
  },
  {
   "cell_type": "markdown",
   "metadata": {},
   "source": [
    "# Getting Stats"
   ]
  },
  {
   "cell_type": "code",
   "execution_count": 11,
   "metadata": {},
   "outputs": [],
   "source": [
    "# Counts number of examples for each noun \n",
    "# for those sentences having number of noun types each of {0,1,2,..max_noun_no,'Rest'}\n",
    "\n",
    "def per_tp_no_distr_stats(max_noun_no, tp):\n",
    "    \n",
    "    noun_distr_per_noun_no = {}\n",
    "    ex_count_per_noun_no = {}\n",
    "    img_caps_per_noun_no = {}\n",
    "    \n",
    "    for i in range(1,max_noun_no+1):\n",
    "        noun_distr_per_noun_no[i] = {}\n",
    "        ex_count_per_noun_no[i] = 0 \n",
    "        img_caps_per_noun_no[i] = []\n",
    "        \n",
    "    noun_distr_per_noun_no['Rest'] = {}\n",
    "    ex_count_per_noun_no['Rest'] = 0 \n",
    "    img_caps_per_noun_no['Rest'] = []\n",
    "    ex_count_per_noun_no[0] = 0 \n",
    "    img_caps_per_noun_no[0] = []\n",
    "    \n",
    "    net_unique_nouns = set()\n",
    "    \n",
    "    def put_words_in_dict(d, ws):\n",
    "        for w in ws:\n",
    "            if w not in d:\n",
    "                d[w] = 1\n",
    "            else:\n",
    "                d[w] += 1\n",
    "    \n",
    "    for item in coco_train_anno_all['annotations']:\n",
    "        tokens = tokenizer.tokenize(item['caption'])\n",
    "        noun_types_per_ex = set()\n",
    "        \n",
    "        for word, pos in nltk.pos_tag(tokens):\n",
    "            if tp in pos:\n",
    "                noun_types_per_ex.add(word)\n",
    "                \n",
    "        no_noun_types_per_ex = len(noun_types_per_ex)\n",
    "        \n",
    "        if no_noun_types_per_ex == 0:\n",
    "            ex_count_per_noun_no[0] += 1\n",
    "            img_caps_per_noun_no[0].append((item['image_id'], item['id']))\n",
    "            continue\n",
    "        \n",
    "        elif no_noun_types_per_ex <= max_noun_no:\n",
    "            d_to_fill = noun_distr_per_noun_no[no_noun_types_per_ex]\n",
    "            ex_count_per_noun_no[no_noun_types_per_ex] += 1\n",
    "            img_caps_per_noun_no[no_noun_types_per_ex].append((item['image_id'], item['id']))\n",
    "            \n",
    "        else:\n",
    "            d_to_fill = noun_distr_per_noun_no['Rest']\n",
    "            ex_count_per_noun_no['Rest'] += 1\n",
    "            img_caps_per_noun_no['Rest'].append((item['image_id'], item['id']))\n",
    "        \n",
    "        put_words_in_dict(d_to_fill, noun_types_per_ex)\n",
    "        net_unique_nouns.update(noun_types_per_ex)\n",
    "                \n",
    "    return noun_distr_per_noun_no, ex_count_per_noun_no, net_unique_nouns, img_caps_per_noun_no"
   ]
  },
  {
   "cell_type": "markdown",
   "metadata": {},
   "source": [
    "# Plotting Stats"
   ]
  },
  {
   "cell_type": "code",
   "execution_count": 12,
   "metadata": {},
   "outputs": [],
   "source": [
    "def plot_bars(values, x_ticklabel, x_label, y_label, title, font_scale=1, rot_angle=0):\n",
    "\n",
    "    x = np.arange(len(x_ticklabel))  # the label locations\n",
    "    width = 0.25  # the width of the bars\n",
    "\n",
    "    with sns.plotting_context(\"notebook\", font_scale=font_scale):\n",
    "        fig, ax = plt.subplots(figsize=(16.22,10))\n",
    "        ax.grid(zorder=0)\n",
    "        rects1 = ax.bar(x - width/2, values, width, label=None, zorder=3)\n",
    "    \n",
    "        # Add some text for labels, title and custom x-axis tick labels, etc.\n",
    "        ax.set_ylabel(y_label)\n",
    "        ax.set_xlabel(x_label)\n",
    "        ax.set_title(title)\n",
    "        ax.set_xticks(x)\n",
    "        ax.set_xticklabels(x_ticklabel)\n",
    "        ax.legend()\n",
    "    \n",
    "    \n",
    "        def autolabel(rects):\n",
    "            \"\"\"Attach a text label above each bar in *rects*, displaying its height.\"\"\"\n",
    "            for rect in rects:\n",
    "                height = rect.get_height()\n",
    "                ax.annotate('{}'.format(''),\n",
    "                            xy=(rect.get_x() + rect.get_width() / 2, height),\n",
    "                            xytext=(0, 3),  # 3 points vertical offset\n",
    "                            textcoords=\"offset points\",\n",
    "                            ha='center', va='bottom')\n",
    "    \n",
    "    \n",
    "        autolabel(rects1)\n",
    "        for item in ax.get_xticklabels():\n",
    "            item.set_rotation(rot_angle)\n",
    "    \n",
    "        fig.tight_layout()\n",
    "    \n",
    "        plt.show()"
   ]
  },
  {
   "cell_type": "markdown",
   "metadata": {},
   "source": [
    "## Getting Noun Stats"
   ]
  },
  {
   "cell_type": "code",
   "execution_count": 10,
   "metadata": {},
   "outputs": [],
   "source": [
    "max_noun_no = 3\n",
    "# noun_distr_per_noun_no, ex_count_per_noun_no, net_unique_nouns, img_caps_per_noun_no = \\\n",
    "#     per_tp_no_distr_stats(max_noun_no, 'NN')\n",
    "\n",
    "# Loading from saved location\n",
    "with open('../../data/coco/coco_stats/noun_stats.pkl', 'rb') as f:\n",
    "    noun_distr_per_noun_no, ex_count_per_noun_no, net_unique_nouns = pickle.load(f)\n",
    "\n",
    "with open('../../data/coco/coco_stats/img_caps_per_noun_list.pkl', 'rb') as f:\n",
    "    img_caps_list = pickle.load(f)"
   ]
  },
  {
   "cell_type": "code",
   "execution_count": 11,
   "metadata": {},
   "outputs": [
    {
     "name": "stdout",
     "output_type": "stream",
     "text": [
      "Total Examples with 0 nouns per example: 37\n",
      "\n",
      "\n",
      "Total Examples with 1 nouns per example: 3832\n",
      "Total Unique nouns with 1 nouns per example: 673\n",
      "\n",
      "Total Examples with 2 nouns per example: 64029\n",
      "Total Unique nouns with 2 nouns per example: 4499\n",
      "\n",
      "Total Examples with 3 nouns per example: 219104\n",
      "Total Unique nouns with 3 nouns per example: 10003\n",
      "\n",
      "Total Examples with > 3 nouns per example: 304751\n",
      "Total Unique nouns with > 3 nouns per example: 16281\n",
      "\n",
      "Total number of unique nouns: 18773\n"
     ]
    }
   ],
   "source": [
    "print('Total Examples with {} nouns per example: {}\\n\\n'.format(0, ex_count_per_noun_no[0]))\n",
    "\n",
    "for i in range(1,max_noun_no+1):\n",
    "    print('Total Examples with {} nouns per example: {}'.\n",
    "          format(i, ex_count_per_noun_no[i]))\n",
    "    print('Total Unique nouns with {} nouns per example: {}\\n'.format(i, len(noun_distr_per_noun_no[i])))\n",
    "    \n",
    "print('Total Examples with > {} nouns per example: {}'.format(max_noun_no, ex_count_per_noun_no['Rest']))\n",
    "print('Total Unique nouns with > {} nouns per example: {}\\n'.format(i, len(noun_distr_per_noun_no['Rest'])))\n",
    "\n",
    "print('Total number of unique nouns: {}'.format(len(net_unique_nouns)))"
   ]
  },
  {
   "cell_type": "markdown",
   "metadata": {},
   "source": [
    "### Separating Objects by phase of introduction "
   ]
  },
  {
   "cell_type": "code",
   "execution_count": 105,
   "metadata": {},
   "outputs": [],
   "source": [
    "obj_ann_file = '../datasets/visual_genome/annotations/objects.json'\n",
    "object_data = json.load(open(obj_ann_file, 'r'))\n",
    "ann_img_ids = []\n",
    "for ann in object_data:\n",
    "    ann_img_ids.append(ann['image_id'])"
   ]
  },
  {
   "cell_type": "code",
   "execution_count": 106,
   "metadata": {},
   "outputs": [],
   "source": [
    "img_ann_file = '../datasets/visual_genome/annotations/image_data.json'\n",
    "image_data = json.load(open(img_ann_file, 'r'))\n",
    "img_img_ids = []\n",
    "for ann in image_data:\n",
    "    img_img_ids.append(ann['image_id'])"
   ]
  },
  {
   "cell_type": "code",
   "execution_count": 107,
   "metadata": {},
   "outputs": [
    {
     "data": {
      "text/plain": [
       "True"
      ]
     },
     "execution_count": 107,
     "metadata": {},
     "output_type": "execute_result"
    }
   ],
   "source": [
    "ann_img_ids == img_img_ids"
   ]
  },
  {
   "cell_type": "code",
   "execution_count": 108,
   "metadata": {},
   "outputs": [],
   "source": [
    "labels_all = []\n",
    "for ann in object_data:\n",
    "    for obj in ann['objects']:\n",
    "        labels_all.append(obj['names'][0])"
   ]
  },
  {
   "cell_type": "code",
   "execution_count": 109,
   "metadata": {},
   "outputs": [],
   "source": [
    "labels_all = set(labels_all)"
   ]
  },
  {
   "cell_type": "code",
   "execution_count": 110,
   "metadata": {},
   "outputs": [],
   "source": [
    "# Remove 'background' class because we don't model that\n",
    "labels_all.remove('background')"
   ]
  },
  {
   "cell_type": "code",
   "execution_count": 111,
   "metadata": {},
   "outputs": [],
   "source": [
    "lab_phs_all_dict={}\n",
    "for label in labels_all:\n",
    "    if label in noun_distr_per_noun_no[1]:\n",
    "        lab_phs_all_dict[label] = 1\n",
    "    elif label in noun_distr_per_noun_no[2]:\n",
    "        lab_phs_all_dict[label] = 2\n",
    "    elif label in noun_distr_per_noun_no[3]:\n",
    "        lab_phs_all_dict[label] = 3       \n",
    "    elif label in noun_distr_per_noun_no['Rest']:\n",
    "        lab_phs_all_dict[label] = 4              "
   ]
  },
  {
   "cell_type": "code",
   "execution_count": 112,
   "metadata": {},
   "outputs": [
    {
     "data": {
      "text/plain": [
       "9163"
      ]
     },
     "execution_count": 112,
     "metadata": {},
     "output_type": "execute_result"
    }
   ],
   "source": [
    "primary_filtered_labels = list(lab_phs_all_dict.keys())\n",
    "len(primary_filtered_labels)"
   ]
  },
  {
   "cell_type": "code",
   "execution_count": 113,
   "metadata": {},
   "outputs": [
    {
     "name": "stdout",
     "output_type": "stream",
     "text": [
      "82826\n",
      "9163\n"
     ]
    }
   ],
   "source": [
    "print(len(labels_all))\n",
    "print(len(lab_phs_all_dict))"
   ]
  },
  {
   "cell_type": "code",
   "execution_count": 114,
   "metadata": {},
   "outputs": [],
   "source": [
    "# Glove Embeddings for filtered class labels\n",
    "\n",
    "class_name_to_glove = {}\n",
    "with open('../datasets/coco/zero-shot/glove.6B.300d.txt', 'r') as fin:\n",
    "    for row in fin:\n",
    "        row_tk = row.split()\n",
    "        if row_tk[0] in primary_filtered_labels:\n",
    "            class_name_to_glove[row_tk[0]] = [float(num) for num in row_tk[1:]]"
   ]
  },
  {
   "cell_type": "code",
   "execution_count": 115,
   "metadata": {
    "scrolled": true
   },
   "outputs": [
    {
     "data": {
      "text/plain": [
       "(8536, 9163)"
      ]
     },
     "execution_count": 115,
     "metadata": {},
     "output_type": "execute_result"
    }
   ],
   "source": [
    "len(class_name_to_glove), len(primary_filtered_labels)"
   ]
  },
  {
   "cell_type": "code",
   "execution_count": 116,
   "metadata": {
    "collapsed": true
   },
   "outputs": [
    {
     "data": {
      "text/plain": [
       "{'accesories',\n",
       " 'aiplane',\n",
       " 'airfrance',\n",
       " 'airplain',\n",
       " 'airplaine',\n",
       " 'airpot',\n",
       " 'amoire',\n",
       " 'amtrack',\n",
       " 'appliences',\n",
       " 'armoir',\n",
       " 'arugala',\n",
       " 'ashphalt',\n",
       " 'asphault',\n",
       " 'atree',\n",
       " 'avacado',\n",
       " 'avertisement',\n",
       " 'avocadoes',\n",
       " 'awoman',\n",
       " 'babay',\n",
       " 'backback',\n",
       " 'backgorund',\n",
       " 'backgound',\n",
       " 'backgroound',\n",
       " 'backgroun',\n",
       " 'backgrund',\n",
       " 'backseats',\n",
       " 'baclground',\n",
       " 'bagles',\n",
       " 'bakground',\n",
       " 'baloons',\n",
       " 'bananna',\n",
       " 'banannas',\n",
       " 'banans',\n",
       " 'bandaid',\n",
       " 'bannana',\n",
       " 'bannanas',\n",
       " 'baord',\n",
       " 'baot',\n",
       " 'baracade',\n",
       " 'barbwire',\n",
       " 'barell',\n",
       " 'barrells',\n",
       " 'basball',\n",
       " 'basebal',\n",
       " 'baske',\n",
       " 'bathmat',\n",
       " 'bathoom',\n",
       " 'bathrom',\n",
       " 'bathrub',\n",
       " 'bathub',\n",
       " 'bckground',\n",
       " 'beanch',\n",
       " 'bedcover',\n",
       " 'beddings',\n",
       " 'bedframe',\n",
       " 'bedrooom',\n",
       " 'bedset',\n",
       " 'bedskirt',\n",
       " 'bedstand',\n",
       " 'bicycler',\n",
       " 'bicyclers',\n",
       " 'bicylce',\n",
       " 'biege',\n",
       " 'bilding',\n",
       " 'birdfeeder',\n",
       " 'biulding',\n",
       " 'bke',\n",
       " 'bloccoli',\n",
       " 'blowdryer',\n",
       " 'boardshorts',\n",
       " 'boay',\n",
       " 'bodyboards',\n",
       " 'bolders',\n",
       " 'boths',\n",
       " 'botle',\n",
       " 'botles',\n",
       " 'botttle',\n",
       " 'boundry',\n",
       " 'boutineer',\n",
       " 'bouy',\n",
       " 'braclet',\n",
       " 'brance',\n",
       " 'brances',\n",
       " 'breakroom',\n",
       " 'brige',\n",
       " 'brissles',\n",
       " 'broccili',\n",
       " 'broccolli',\n",
       " 'brocoli',\n",
       " 'brocolli',\n",
       " 'buggie',\n",
       " 'buiding',\n",
       " 'buidings',\n",
       " 'buidlings',\n",
       " 'buildig',\n",
       " 'buildiing',\n",
       " 'buildinig',\n",
       " 'buildling',\n",
       " 'buildng',\n",
       " 'builiding',\n",
       " 'builidng',\n",
       " 'builing',\n",
       " 'buldings',\n",
       " 'buliding',\n",
       " 'bulidings',\n",
       " 'bunkbed',\n",
       " 'burgandy',\n",
       " 'busstop',\n",
       " 'butterflys',\n",
       " 'buuilding',\n",
       " 'bycicle',\n",
       " 'cabinents',\n",
       " 'cabinettes',\n",
       " 'califlower',\n",
       " 'camoflage',\n",
       " 'camoflauge',\n",
       " 'cananda',\n",
       " 'candycanes',\n",
       " 'carboard',\n",
       " 'carebear',\n",
       " 'carebears',\n",
       " 'cark',\n",
       " 'carraige',\n",
       " 'carror',\n",
       " 'carrotts',\n",
       " 'carrrots',\n",
       " 'carseat',\n",
       " 'caserole',\n",
       " 'celing',\n",
       " 'chadelier',\n",
       " 'chandalier',\n",
       " 'chandlier',\n",
       " 'chees',\n",
       " 'chesse',\n",
       " 'chiar',\n",
       " 'childern',\n",
       " 'choloate',\n",
       " 'cieling',\n",
       " 'cigerette',\n",
       " 'citifield',\n",
       " 'clcok',\n",
       " 'clockface',\n",
       " 'clockpost',\n",
       " 'cofee',\n",
       " 'coffe',\n",
       " 'coffemaker',\n",
       " 'collander',\n",
       " 'comode',\n",
       " 'controler',\n",
       " 'controlers',\n",
       " 'cookstove',\n",
       " 'corndogs',\n",
       " 'croisants',\n",
       " 'cronut',\n",
       " 'crub',\n",
       " 'cruller',\n",
       " 'cuboard',\n",
       " 'curst',\n",
       " 'curtians',\n",
       " 'custome',\n",
       " 'daises',\n",
       " 'dalmation',\n",
       " 'deks',\n",
       " 'deocrations',\n",
       " 'deoderant',\n",
       " 'dinnerplate',\n",
       " 'dirtbike',\n",
       " 'dishrack',\n",
       " 'dishtowels',\n",
       " 'dispencer',\n",
       " 'dispensor',\n",
       " 'dispensors',\n",
       " 'divder',\n",
       " 'dnow',\n",
       " 'donairs',\n",
       " 'doubledecker',\n",
       " 'doughtnuts',\n",
       " 'dougnut',\n",
       " 'dounuts',\n",
       " 'drainer',\n",
       " 'dufflebag',\n",
       " 'dumptruck',\n",
       " 'dy8',\n",
       " 'elaves',\n",
       " 'electornics',\n",
       " 'encloser',\n",
       " 'equiptment',\n",
       " 'esclator',\n",
       " 'exibit',\n",
       " 'facuet',\n",
       " 'feedbag',\n",
       " 'fenc',\n",
       " 'fench',\n",
       " 'fene',\n",
       " 'firehydrant',\n",
       " 'firepit',\n",
       " 'firsbee',\n",
       " 'fisbee',\n",
       " 'flipflops',\n",
       " 'floatie',\n",
       " 'floaties',\n",
       " 'floormat',\n",
       " 'flowes',\n",
       " 'foilage',\n",
       " 'foof',\n",
       " 'forhead',\n",
       " 'fourwheeler',\n",
       " 'fower',\n",
       " 'freesbee',\n",
       " 'freesbie',\n",
       " 'fribee',\n",
       " 'frig',\n",
       " 'frigerator',\n",
       " 'frisbe',\n",
       " 'friuts',\n",
       " 'frizbee',\n",
       " 'frsibee',\n",
       " 'fruitstand',\n",
       " 'furiniture',\n",
       " 'garmet',\n",
       " 'garnishments',\n",
       " 'gasmask',\n",
       " 'gasstation',\n",
       " 'gaurd',\n",
       " 'girafe',\n",
       " 'girafee',\n",
       " 'giraff',\n",
       " 'giraffee',\n",
       " 'giraffees',\n",
       " 'girrafe',\n",
       " 'girraffe',\n",
       " 'glases',\n",
       " 'gound',\n",
       " 'gradd',\n",
       " 'graffati',\n",
       " 'graffit',\n",
       " 'grafiti',\n",
       " 'graphiti',\n",
       " 'grapic',\n",
       " 'griaffe',\n",
       " 'griaffes',\n",
       " 'gril',\n",
       " 'groud',\n",
       " 'groun',\n",
       " 'guages',\n",
       " 'hamburber',\n",
       " 'hammertime',\n",
       " 'handbrakes',\n",
       " 'handwash',\n",
       " 'hanf',\n",
       " 'hankerchief',\n",
       " 'hashbrown',\n",
       " 'hashbrowns',\n",
       " 'heidy',\n",
       " 'helemet',\n",
       " 'helemt',\n",
       " 'helment',\n",
       " 'hoddie',\n",
       " 'hoody',\n",
       " 'hosue',\n",
       " 'hotplate',\n",
       " 'hydran',\n",
       " 'hyrdant',\n",
       " 'hyrdrant',\n",
       " 'iamge',\n",
       " 'icture',\n",
       " 'indow',\n",
       " 'ingrediants',\n",
       " 'intertube',\n",
       " 'jalepeno',\n",
       " 'jalepenos',\n",
       " 'jumbojet',\n",
       " 'keboard',\n",
       " 'keish',\n",
       " 'ketsup',\n",
       " 'keybaord',\n",
       " 'kickstands',\n",
       " 'kitche',\n",
       " 'kiteboard',\n",
       " 'kiteboarder',\n",
       " 'kiteboards',\n",
       " 'kitesurfer',\n",
       " 'kithcen',\n",
       " 'knecklace',\n",
       " 'knicknacks',\n",
       " 'knive',\n",
       " 'ktichen',\n",
       " 'ktie',\n",
       " 'lables',\n",
       " 'ladel',\n",
       " 'lampost',\n",
       " 'lampstand',\n",
       " 'laniard',\n",
       " 'lawnchair',\n",
       " 'leavs',\n",
       " 'letuce',\n",
       " 'lifevest',\n",
       " 'lightpost',\n",
       " 'lilypads',\n",
       " 'liqour',\n",
       " 'litterbox',\n",
       " 'locamotive',\n",
       " 'longboarder',\n",
       " 'longsleeve',\n",
       " 'lugagge',\n",
       " 'lugggage',\n",
       " 'lunchmeat',\n",
       " 'mailslot',\n",
       " 'manb',\n",
       " 'manequin',\n",
       " 'manequins',\n",
       " 'manikins',\n",
       " 'mantlepiece',\n",
       " 'marroon',\n",
       " 'matress',\n",
       " 'mayonaise',\n",
       " 'midground',\n",
       " 'mircowave',\n",
       " 'miror',\n",
       " 'mirroe',\n",
       " 'mirros',\n",
       " 'mirrow',\n",
       " 'montview',\n",
       " 'moouth',\n",
       " 'mopad',\n",
       " 'morotcycle',\n",
       " 'morror',\n",
       " 'motercycle',\n",
       " 'motocycles',\n",
       " 'motorcylce',\n",
       " 'motorcylces',\n",
       " 'moutains',\n",
       " 'multicolors',\n",
       " 'multitool',\n",
       " 'mustand',\n",
       " 'neighboorhood',\n",
       " 'nicknacks',\n",
       " 'nighstand',\n",
       " 'noddles',\n",
       " 'numberpad',\n",
       " 'nunchuck',\n",
       " 'omlet',\n",
       " 'onit',\n",
       " 'onsie',\n",
       " 'oxes',\n",
       " 'pacifer',\n",
       " 'palne',\n",
       " 'palte',\n",
       " 'papaer',\n",
       " 'parachuter',\n",
       " 'parasailer',\n",
       " 'parasailers',\n",
       " 'parasailors',\n",
       " 'parasails',\n",
       " 'parasurfer',\n",
       " 'parisol',\n",
       " 'parkbench',\n",
       " 'parkinglot',\n",
       " 'pasengers',\n",
       " 'passanger',\n",
       " 'passway',\n",
       " 'pastery',\n",
       " 'patern',\n",
       " 'peaple',\n",
       " 'peice',\n",
       " 'peices',\n",
       " 'peoople',\n",
       " 'peopel',\n",
       " 'peopl',\n",
       " 'peperoni',\n",
       " 'peperroni',\n",
       " 'pepperonis',\n",
       " 'pepporoni',\n",
       " 'perosn',\n",
       " 'perso',\n",
       " 'peson',\n",
       " 'pestal',\n",
       " 'phonebooth',\n",
       " 'photgraph',\n",
       " 'photoframe',\n",
       " 'photot',\n",
       " 'pickels',\n",
       " 'picure',\n",
       " 'picutre',\n",
       " 'picutres',\n",
       " 'pidgeons',\n",
       " 'pillers',\n",
       " 'pilow',\n",
       " 'pinapple',\n",
       " 'pizzaria',\n",
       " 'plaform',\n",
       " 'plateform',\n",
       " 'platfrom',\n",
       " 'plushes',\n",
       " 'plushie',\n",
       " 'plushies',\n",
       " 'poatoes',\n",
       " 'popcicle',\n",
       " 'porcelin',\n",
       " 'portapotty',\n",
       " 'posessions',\n",
       " 'potstickers',\n",
       " 'prarie',\n",
       " 'prson',\n",
       " 'raddishes',\n",
       " 'railjet',\n",
       " 'rainboots',\n",
       " 'raingear',\n",
       " 'raod',\n",
       " 'raquets',\n",
       " 'reciept',\n",
       " 'refection',\n",
       " 'refelection',\n",
       " 'refidgerator',\n",
       " 'refigerator',\n",
       " 'reflaction',\n",
       " 'refridgerator',\n",
       " 'refridgerators',\n",
       " 'refrigerater',\n",
       " 'reinactment',\n",
       " 'remot',\n",
       " 'restaraunt',\n",
       " 'restraunt',\n",
       " 'resturant',\n",
       " 'roadsign',\n",
       " 'roap',\n",
       " 'sadle',\n",
       " 'sailboarder',\n",
       " 'saltshaker',\n",
       " 'sandels',\n",
       " 'sandles',\n",
       " 'sandwhich',\n",
       " 'sandwhiches',\n",
       " 'sandwiche',\n",
       " 'sandwichs',\n",
       " 'sanwich',\n",
       " 'saurkraut',\n",
       " 'savanah',\n",
       " 'sciccors',\n",
       " 'scrunchie',\n",
       " 'scrunchy',\n",
       " 'sculture',\n",
       " 'scuplture',\n",
       " 'scupture',\n",
       " 'selfie',\n",
       " 'selfies',\n",
       " 'semitruck',\n",
       " 'sheeep',\n",
       " 'shelfs',\n",
       " 'shleves',\n",
       " 'shoer',\n",
       " 'sholder',\n",
       " 'shrubberies',\n",
       " 'siccors',\n",
       " 'sideview',\n",
       " 'sidewlak',\n",
       " 'sidwalk',\n",
       " 'silverwear',\n",
       " 'sissors',\n",
       " 'sizzor',\n",
       " 'sizzors',\n",
       " 'skatboard',\n",
       " 'skatboarder',\n",
       " 'skatebaord',\n",
       " 'skateboad',\n",
       " 'skatebord',\n",
       " 'skateramp',\n",
       " 'skatingboard',\n",
       " 'skiboard',\n",
       " 'skie',\n",
       " 'skii',\n",
       " 'skiies',\n",
       " 'skiis',\n",
       " 'skilift',\n",
       " 'sking',\n",
       " 'skort',\n",
       " 'skys',\n",
       " 'skyscrapper',\n",
       " 'smilling',\n",
       " 'smores',\n",
       " 'snowbaord',\n",
       " 'snowboad',\n",
       " 'snowboader',\n",
       " 'snowboar',\n",
       " 'snowpants',\n",
       " 'soccerball',\n",
       " 'soccor',\n",
       " 'someon',\n",
       " 'sourkraut',\n",
       " 'spraypaint',\n",
       " 'squating',\n",
       " 'sreen',\n",
       " 'sreet',\n",
       " 'staris',\n",
       " 'stationwagon',\n",
       " 'stawberries',\n",
       " 'stawberry',\n",
       " 'steem',\n",
       " 'stepstool',\n",
       " 'stethescope',\n",
       " 'stirfry',\n",
       " 'stomache',\n",
       " 'stopsign',\n",
       " 'strafze',\n",
       " 'streeet',\n",
       " 'streetlamp',\n",
       " 'streetsign',\n",
       " 'stret',\n",
       " 'suace',\n",
       " 'suface',\n",
       " 'sufboard',\n",
       " 'sufer',\n",
       " 'suitecase',\n",
       " 'sunexpress',\n",
       " 'sungalsses',\n",
       " 'sunglasse',\n",
       " 'sunhat',\n",
       " 'sunsetting',\n",
       " 'sunvisor',\n",
       " 'surboard',\n",
       " 'surboards',\n",
       " 'surfboad',\n",
       " 'surfboarder',\n",
       " 'surferboard',\n",
       " 'surfobard',\n",
       " 'surver',\n",
       " 'susage',\n",
       " 'swimtrunks',\n",
       " 'tabel',\n",
       " 'tabke',\n",
       " 'tabl',\n",
       " 'talbe',\n",
       " 'tangelos',\n",
       " 'tanktop',\n",
       " 'taptops',\n",
       " 'tarmack',\n",
       " 'teddybear',\n",
       " 'teeshirt',\n",
       " 'telelvision',\n",
       " 'telivision',\n",
       " 'tennisball',\n",
       " 'tiels',\n",
       " 'tiolet',\n",
       " 'toielt',\n",
       " 'toiilet',\n",
       " 'toliet',\n",
       " 'tomatoe',\n",
       " 'tomatos',\n",
       " 'tootbrush',\n",
       " 'toothbush',\n",
       " 'toothrbush',\n",
       " 'tophat',\n",
       " 'toster',\n",
       " 'tounge',\n",
       " 'touratech',\n",
       " 'towl',\n",
       " 'towls',\n",
       " 'trainstation',\n",
       " 'traintrack',\n",
       " 'traintracks',\n",
       " 'trainyard',\n",
       " 'tramac',\n",
       " 'trashbag',\n",
       " 'treee',\n",
       " 'treees',\n",
       " 'tressle',\n",
       " 'trivets',\n",
       " 'trolly',\n",
       " 'truckbed',\n",
       " 'trunck',\n",
       " 'tshirt',\n",
       " 'tshirts',\n",
       " 'turmac',\n",
       " 'turnstyle',\n",
       " 'turqoise',\n",
       " 'umbella',\n",
       " 'umberall',\n",
       " 'umberella',\n",
       " 'umberlla',\n",
       " 'umbrealla',\n",
       " 'umbrela',\n",
       " 'umbrellla',\n",
       " 'umrella',\n",
       " 'unbrella',\n",
       " 'untensil',\n",
       " 'upron',\n",
       " 'utinsils',\n",
       " 'vechicle',\n",
       " 'vegatables',\n",
       " 'vege',\n",
       " 'vegetabes',\n",
       " 'vegies',\n",
       " 'vegtables',\n",
       " 'vehcile',\n",
       " 'waer',\n",
       " 'wakeboarder',\n",
       " 'washclothes',\n",
       " 'washrags',\n",
       " 'waterbottle',\n",
       " 'watermellon',\n",
       " 'waterskier',\n",
       " 'waterskiers',\n",
       " 'waterskis',\n",
       " 'watr',\n",
       " 'whie',\n",
       " 'whipcream',\n",
       " 'wiimotes',\n",
       " 'wildebeast',\n",
       " 'windboard',\n",
       " 'windo',\n",
       " 'windoe',\n",
       " 'windown',\n",
       " 'windsail',\n",
       " 'windsheild',\n",
       " 'windsocks',\n",
       " 'windsurfs',\n",
       " 'windwo',\n",
       " 'wndow',\n",
       " 'wndows',\n",
       " 'woamn',\n",
       " 'woma',\n",
       " 'wristlet',\n",
       " 'writting',\n",
       " 'wwater',\n",
       " 'zeebra',\n",
       " 'zerbra',\n",
       " 'zuchinni'}"
      ]
     },
     "execution_count": 116,
     "metadata": {},
     "output_type": "execute_result"
    }
   ],
   "source": [
    "set(primary_filtered_labels) - set(list(class_name_to_glove.keys()))"
   ]
  },
  {
   "cell_type": "code",
   "execution_count": 117,
   "metadata": {},
   "outputs": [
    {
     "data": {
      "text/plain": [
       "8536"
      ]
     },
     "execution_count": 117,
     "metadata": {},
     "output_type": "execute_result"
    }
   ],
   "source": [
    "# Filter labels according to GloVe keys now; since those are supurious, see above\n",
    "secondary_filtered_labels = list(class_name_to_glove.keys())\n",
    "len(secondary_filtered_labels)"
   ]
  },
  {
   "cell_type": "code",
   "execution_count": 118,
   "metadata": {},
   "outputs": [
    {
     "data": {
      "text/plain": [
       "(8536, 768)"
      ]
     },
     "execution_count": 118,
     "metadata": {},
     "output_type": "execute_result"
    }
   ],
   "source": [
    "# BERT Embeddings for filtered class labels\n",
    "bert = BERT(cfg)\n",
    "bert.to('cuda')\n",
    "\n",
    "encoded_class_list = bert(secondary_filtered_labels)\n",
    "mask = (1 - encoded_class_list['special_tokens_mask']).to(torch.float32)\n",
    "embeddings = (encoded_class_list['input_embeddings'] * mask[:, :, None]).sum(1) / mask.sum(1)[:, None]\n",
    "embeddings = embeddings.cpu().numpy()\n",
    "embeddings.shape"
   ]
  },
  {
   "cell_type": "code",
   "execution_count": 119,
   "metadata": {},
   "outputs": [],
   "source": [
    "class_name_to_bertemb = {}\n",
    "for c, emb in zip(secondary_filtered_labels, embeddings.tolist()):\n",
    "    class_name_to_bertemb[c] = emb"
   ]
  },
  {
   "cell_type": "code",
   "execution_count": 120,
   "metadata": {},
   "outputs": [
    {
     "data": {
      "text/plain": [
       "(8536, 8536, 8536)"
      ]
     },
     "execution_count": 120,
     "metadata": {},
     "output_type": "execute_result"
    }
   ],
   "source": [
    "len(class_name_to_bertemb), len(class_name_to_glove), len(secondary_filtered_labels)"
   ]
  },
  {
   "cell_type": "code",
   "execution_count": 121,
   "metadata": {},
   "outputs": [],
   "source": [
    "# Now filter image data and objects data based on the filtered labels\n",
    "def filter_annotation(images_data, objects_data, labels_to_filter, is_large=False):\n",
    "   \n",
    "    filtered_images = []\n",
    "    filtered_annotations = []\n",
    "    useful_image_ids = set()\n",
    "    \n",
    "    for item in objects_data:\n",
    "        object_not_found_in_image = 0\n",
    "        objs_to_keep = []\n",
    "        for obj in item['objects']:\n",
    "            if obj['names'][0] not in labels_to_filter:\n",
    "                object_not_found_in_image = 1\n",
    "                if not is_large:\n",
    "                    break\n",
    "                else:\n",
    "                    continue\n",
    "            objs_to_keep.append(obj)\n",
    "        if object_not_found_in_image == 1 and not is_large:\n",
    "            continue\n",
    "        else:\n",
    "            if len(objs_to_keep) < 1:\n",
    "                continue\n",
    "            item['objects'] = objs_to_keep\n",
    "        filtered_annotations.append(item)\n",
    "        useful_image_ids.add(item['image_id'])\n",
    "            \n",
    "    for item in images_data:\n",
    "        if item['image_id'] in useful_image_ids:\n",
    "            filtered_images.append(item)\n",
    "            \n",
    "    return filtered_images, filtered_annotations\n",
    "\n",
    "def get_label_embeddings(ls):\n",
    "    labels_embeddings = {}\n",
    "    for label in ls:\n",
    "        labels_embeddings[label] = {}\n",
    "        labels_embeddings[label]['GloVE'] = class_name_to_glove[label]\n",
    "        labels_embeddings[label]['BertEmb'] = class_name_to_bertemb[label]\n",
    "    return labels_embeddings"
   ]
  },
  {
   "cell_type": "code",
   "execution_count": 83,
   "metadata": {},
   "outputs": [],
   "source": [
    "# Small filtered: omitting images with even one obj not in filtered labels\n",
    "# filtered_image_data, filtered_object_data = filter_annotation(image_data, object_data, secondary_filtered_labels)\n",
    "\n",
    "with open('../../data/visual_genome/zero-shot/filtered_image_data.json', 'r') as f:\n",
    "    filtered_image_data = json.load(f)\n",
    "    \n",
    "with open('../../data/visual_genome/zero-shot/filtered_object_data.json', 'r') as f:\n",
    "    filtered_object_data = json.load(f)"
   ]
  },
  {
   "cell_type": "code",
   "execution_count": 122,
   "metadata": {},
   "outputs": [
    {
     "data": {
      "text/plain": [
       "(24111, 24111)"
      ]
     },
     "execution_count": 122,
     "metadata": {},
     "output_type": "execute_result"
    }
   ],
   "source": [
    "len(filtered_image_data), len(filtered_object_data)"
   ]
  },
  {
   "cell_type": "code",
   "execution_count": 123,
   "metadata": {},
   "outputs": [],
   "source": [
    "# Keep only those labels which were chosen while filtering images \n",
    "# containing bbox belongng to secondary_filtered_labels\n",
    "final_filtered_labels = []\n",
    "for ann in filtered_object_data:\n",
    "    for obj in ann['objects']:\n",
    "        final_filtered_labels.append(obj['names'][0])"
   ]
  },
  {
   "cell_type": "code",
   "execution_count": 124,
   "metadata": {},
   "outputs": [
    {
     "data": {
      "text/plain": [
       "5035"
      ]
     },
     "execution_count": 124,
     "metadata": {},
     "output_type": "execute_result"
    }
   ],
   "source": [
    "final_filtered_labels = set(final_filtered_labels)\n",
    "len(final_filtered_labels)"
   ]
  },
  {
   "cell_type": "code",
   "execution_count": 125,
   "metadata": {},
   "outputs": [],
   "source": [
    "filtered_label_embeddings = get_label_embeddings(final_filtered_labels)"
   ]
  },
  {
   "cell_type": "code",
   "execution_count": 126,
   "metadata": {},
   "outputs": [],
   "source": [
    "with open('../../data/visual_genome/zero-shot/filtered_image_data.json', 'w') as f:\n",
    "    json.dump(filtered_image_data, f)"
   ]
  },
  {
   "cell_type": "code",
   "execution_count": 127,
   "metadata": {},
   "outputs": [],
   "source": [
    "with open('../../data/visual_genome/zero-shot/filtered_object_data.json', 'w') as f:\n",
    "    json.dump(filtered_object_data, f)"
   ]
  },
  {
   "cell_type": "code",
   "execution_count": 128,
   "metadata": {},
   "outputs": [],
   "source": [
    "with open('../../data/visual_genome/zero-shot/filtered_label_embeddings.json', 'w') as f:\n",
    "    json.dump(filtered_label_embeddings, f)"
   ]
  },
  {
   "cell_type": "code",
   "execution_count": 129,
   "metadata": {},
   "outputs": [
    {
     "data": {
      "text/plain": [
       "4128"
      ]
     },
     "execution_count": 129,
     "metadata": {},
     "output_type": "execute_result"
    }
   ],
   "source": [
    "# Remove those labels not found in GloVE since these are supurous (see aboveo)\n",
    "to_remove_labels = set(list(lab_phs_all_dict.keys())) - final_filtered_labels\n",
    "len(to_remove_labels)"
   ]
  },
  {
   "cell_type": "code",
   "execution_count": 130,
   "metadata": {},
   "outputs": [],
   "source": [
    "for label in to_remove_labels:\n",
    "    del(lab_phs_all_dict[label])"
   ]
  },
  {
   "cell_type": "code",
   "execution_count": 131,
   "metadata": {
    "scrolled": true
   },
   "outputs": [
    {
     "name": "stdout",
     "output_type": "stream",
     "text": [
      "In phase 2, number of classes: 2170\n",
      "In phase 4, number of classes: 701\n",
      "In phase 3, number of classes: 1556\n",
      "In phase 1, number of classes: 608\n"
     ]
    }
   ],
   "source": [
    "from collections import defaultdict\n",
    "\n",
    "objects_by_phases = defaultdict(list)\n",
    "for lab, phs in lab_phs_all_dict.items():\n",
    "    objects_by_phases[phs].append(lab)\n",
    "    \n",
    "for ph, objs in objects_by_phases.items():\n",
    "    print(f'In phase {ph}, number of classes: {len(objs)}')"
   ]
  },
  {
   "cell_type": "code",
   "execution_count": 132,
   "metadata": {},
   "outputs": [],
   "source": [
    "with open('../../data/visual_genome/stats/objects_by_phases.json', 'w') as f:\n",
    "    json.dump(objects_by_phases, f)"
   ]
  },
  {
   "cell_type": "markdown",
   "metadata": {},
   "source": [
    "#### Large filter"
   ]
  },
  {
   "cell_type": "code",
   "execution_count": 133,
   "metadata": {},
   "outputs": [],
   "source": [
    "# Large filtered: keeping images with even one obj not in filtered labels\n",
    "# large_filtered_image_data, large_filtered_object_data = filter_annotation(image_data, object_data, \n",
    "#                                                                         secondary_filtered_labels,  is_large=True)\n",
    "\n",
    "with open('../../data/visual_genome/zero-shot/large_filtered_image_data.json', 'r') as f:\n",
    "    large_filtered_image_data = json.load(f)\n",
    "    \n",
    "with open('../../data/visual_genome/zero-shot/large_filtered_object_data.json', 'r') as f:\n",
    "    large_filtered_object_data = json.load(f)"
   ]
  },
  {
   "cell_type": "code",
   "execution_count": 134,
   "metadata": {},
   "outputs": [
    {
     "data": {
      "text/plain": [
       "(106145, 106145)"
      ]
     },
     "execution_count": 134,
     "metadata": {},
     "output_type": "execute_result"
    }
   ],
   "source": [
    "len(large_filtered_image_data), len(large_filtered_object_data)"
   ]
  },
  {
   "cell_type": "code",
   "execution_count": 135,
   "metadata": {},
   "outputs": [],
   "source": [
    "final_large_filtered_labels = []\n",
    "for ann in large_filtered_object_data:\n",
    "    for obj in ann['objects']:\n",
    "        final_large_filtered_labels.append(obj['names'][0])"
   ]
  },
  {
   "cell_type": "code",
   "execution_count": 136,
   "metadata": {},
   "outputs": [
    {
     "data": {
      "text/plain": [
       "8536"
      ]
     },
     "execution_count": 136,
     "metadata": {},
     "output_type": "execute_result"
    }
   ],
   "source": [
    "final_large_filtered_labels = set(final_large_filtered_labels)\n",
    "len(final_large_filtered_labels)"
   ]
  },
  {
   "cell_type": "code",
   "execution_count": 137,
   "metadata": {},
   "outputs": [],
   "source": [
    "large_filtered_label_embeddings = get_label_embeddings(final_large_filtered_labels)"
   ]
  },
  {
   "cell_type": "code",
   "execution_count": 138,
   "metadata": {},
   "outputs": [],
   "source": [
    "with open('../../data/visual_genome/zero-shot/large_filtered_image_data.json', 'w') as f:\n",
    "    json.dump(large_filtered_image_data, f)"
   ]
  },
  {
   "cell_type": "code",
   "execution_count": 139,
   "metadata": {},
   "outputs": [],
   "source": [
    "with open('../../data/visual_genome/zero-shot/large_filtered_object_data.json', 'w') as f:\n",
    "    json.dump(large_filtered_object_data, f)"
   ]
  },
  {
   "cell_type": "code",
   "execution_count": 140,
   "metadata": {},
   "outputs": [],
   "source": [
    "with open('../../data/visual_genome/zero-shot/large_filtered_label_embeddings.json', 'w') as f:\n",
    "    json.dump(large_filtered_label_embeddings, f)"
   ]
  },
  {
   "cell_type": "code",
   "execution_count": 141,
   "metadata": {},
   "outputs": [],
   "source": [
    "# Remove corresponding entries from lab_phs_all_dict and objects_by_phases as well\n",
    "# Need to reinitialize lab_phs_all_dict since it was modified by small filtered\n",
    "\n",
    "lab_phs_all_dict={}\n",
    "for label in labels_all:\n",
    "    if label in noun_distr_per_noun_no[1]:\n",
    "        lab_phs_all_dict[label] = 1\n",
    "    elif label in noun_distr_per_noun_no[2]:\n",
    "        lab_phs_all_dict[label] = 2\n",
    "    elif label in noun_distr_per_noun_no[3]:\n",
    "        lab_phs_all_dict[label] = 3       \n",
    "    elif label in noun_distr_per_noun_no['Rest']:\n",
    "        lab_phs_all_dict[label] = 4              "
   ]
  },
  {
   "cell_type": "code",
   "execution_count": 142,
   "metadata": {},
   "outputs": [
    {
     "data": {
      "text/plain": [
       "627"
      ]
     },
     "execution_count": 142,
     "metadata": {},
     "output_type": "execute_result"
    }
   ],
   "source": [
    "# Remove those labels not found in GloVE since these are supurous (see aboveo)\n",
    "to_remove_labels = set(list(lab_phs_all_dict.keys())) - final_large_filtered_labels\n",
    "len(to_remove_labels)"
   ]
  },
  {
   "cell_type": "code",
   "execution_count": 143,
   "metadata": {},
   "outputs": [],
   "source": [
    "# Remove corresponding entries from lab_phs_all_dict and objects_by_phases as well\n",
    "for label in to_remove_labels:\n",
    "    del(lab_phs_all_dict[label])"
   ]
  },
  {
   "cell_type": "code",
   "execution_count": 144,
   "metadata": {
    "scrolled": true
   },
   "outputs": [
    {
     "name": "stdout",
     "output_type": "stream",
     "text": [
      "In phase 3, number of classes: 2968\n",
      "In phase 2, number of classes: 2918\n",
      "In phase 4, number of classes: 2009\n",
      "In phase 1, number of classes: 641\n"
     ]
    }
   ],
   "source": [
    "from collections import defaultdict\n",
    "\n",
    "large_objects_by_phases = defaultdict(list)\n",
    "for lab, phs in lab_phs_all_dict.items():\n",
    "    large_objects_by_phases[phs].append(lab)\n",
    "    \n",
    "for ph, objs in large_objects_by_phases.items():\n",
    "    print(f'In phase {ph}, number of classes: {len(objs)}')"
   ]
  },
  {
   "cell_type": "code",
   "execution_count": 145,
   "metadata": {},
   "outputs": [],
   "source": [
    "with open('../../data/visual_genome/stats/large_objects_by_phases.json', 'w') as f:\n",
    "    json.dump(large_objects_by_phases, f)"
   ]
  },
  {
   "cell_type": "markdown",
   "metadata": {},
   "source": [
    "### Noun Distribution statistics"
   ]
  },
  {
   "cell_type": "code",
   "execution_count": 24,
   "metadata": {
    "scrolled": false
   },
   "outputs": [
    {
     "name": "stderr",
     "output_type": "stream",
     "text": [
      "No handles with labels found to put in legend.\n"
     ]
    },
    {
     "data": {
      "image/png": "[encoded data removed]",
      "text/plain": [
       "<Figure size 1167.84x720 with 1 Axes>"
      ]
     },
     "metadata": {
      "needs_background": "light"
     },
     "output_type": "display_data"
    }
   ],
   "source": [
    "vals = list(noun_distr_per_noun_no[3].values())\n",
    "keys = list(noun_distr_per_noun_no[3].keys())\n",
    "\n",
    "sort_idx = list(np.argsort(- np.array(vals)))\n",
    "\n",
    "x_ticklabel = list(map(keys.__getitem__, sort_idx))[:200]\n",
    "values = list(map(vals.__getitem__, sort_idx))[:200]\n",
    "\n",
    "plot_bars(values, x_ticklabel, 'Noun', '# Number', \n",
    "          'Number of nouns', rot_angle=90)"
   ]
  },
  {
   "cell_type": "code",
   "execution_count": 25,
   "metadata": {},
   "outputs": [
    {
     "data": {
      "text/plain": [
       "659"
      ]
     },
     "execution_count": 25,
     "metadata": {},
     "output_type": "execute_result"
    }
   ],
   "source": [
    "values[199]"
   ]
  },
  {
   "cell_type": "code",
   "execution_count": 26,
   "metadata": {},
   "outputs": [
    {
     "name": "stdout",
     "output_type": "stream",
     "text": [
      "10003\n"
     ]
    }
   ],
   "source": [
    "values = sorted(list(vals), reverse=True)\n",
    "print(len(values))"
   ]
  },
  {
   "cell_type": "code",
   "execution_count": 27,
   "metadata": {},
   "outputs": [
    {
     "data": {
      "text/plain": [
       "[15, 15, 15, 15, 15, 15, 15, 15, 15, 15]"
      ]
     },
     "execution_count": 27,
     "metadata": {},
     "output_type": "execute_result"
    }
   ],
   "source": [
    "values[2000:2010]"
   ]
  },
  {
   "cell_type": "code",
   "execution_count": null,
   "metadata": {},
   "outputs": [],
   "source": [
    "# with open('../../data/coco/coco_stats/noun_stats.pkl', 'wb') as f:\n",
    "#     pickle.dump([noun_distr_per_noun_no, ex_count_per_noun_no, net_unique_nouns], f)\n",
    "\n",
    "# no_nouns_list, img_caps_list = zip(*(sorted(img_caps_per_noun_no.items(), key=lambda l: l[0] if type(l[0])==int else 99999)))\n",
    "# no_nouns_list, img_caps_list = list(no_nouns_list), list(img_caps_list)\n",
    "# \n",
    "# del(no_nouns_list[0])\n",
    "# del(img_caps_list[0])\n",
    "# print(no_nouns_list)\n",
    "\n",
    "# with open('../../data/coco/coco_stats/img_caps_per_noun_list.pkl', 'wb') as f:\n",
    "#     pickle.dump(img_caps_list, f)"
   ]
  },
  {
   "cell_type": "markdown",
   "metadata": {},
   "source": [
    "## Getting Verb Stats"
   ]
  },
  {
   "cell_type": "code",
   "execution_count": null,
   "metadata": {},
   "outputs": [],
   "source": [
    "max_verb_no = 3\n",
    "# verb_distr_per_verb_no, ex_count_per_verb_no, net_unique_verbs = per_tp_no_distr_stats(max_verb_no, 'VB')\n",
    "\n",
    "# Loading from saved location\n",
    "with open('../../data/coco_stats/coco/verb_stats.pkl', 'rb') as f:\n",
    "    verb_distr_per_verb_no, ex_count_per_verb_no, net_unique_verbs = pickle.load(f)"
   ]
  },
  {
   "cell_type": "code",
   "execution_count": null,
   "metadata": {},
   "outputs": [],
   "source": [
    "max_verb_no = 3\n",
    "verb_distr_per_verb_no, ex_count_per_verb_no, net_unique_verbs = per_tp_no_distr_stats(max_verb_no, 'VB')"
   ]
  },
  {
   "cell_type": "code",
   "execution_count": null,
   "metadata": {},
   "outputs": [],
   "source": [
    "print('Total Examples with {} verbs per example: {}\\n\\n'.format(0, ex_count_per_verb_no[0]))\n",
    "\n",
    "for i in range(1,max_verb_no+1):\n",
    "    print('Total Examples with {} verbs per example: {}'.\n",
    "          format(i, ex_count_per_verb_no[i]))\n",
    "    print('Total Unique verbs with {} verbs per example: {}\\n'.format(i, len(verb_distr_per_verb_no[i])))\n",
    "    \n",
    "print('Total Examples with > {} verbs per example: {}'.format(max_verb_no, ex_count_per_verb_no['Rest']))\n",
    "print('Total Unique verbs with > {} verbs per example: {}\\n'.format(i, len(verb_distr_per_verb_no['Rest'])))\n",
    "\n",
    "print('Total number of unique verbs: {}'.format(len(net_unique_verbs)))"
   ]
  },
  {
   "cell_type": "code",
   "execution_count": null,
   "metadata": {},
   "outputs": [],
   "source": [
    "# with open('../../data/coco_stats/coco/verb_stats.pkl', 'wb') as f:\n",
    "#     pickle.dump([verb_distr_per_verb_no, ex_count_per_verb_no, net_unique_verbs], f)"
   ]
  },
  {
   "cell_type": "markdown",
   "metadata": {},
   "source": [
    "## Getting Noun-Verb statistics"
   ]
  },
  {
   "cell_type": "code",
   "execution_count": null,
   "metadata": {},
   "outputs": [],
   "source": [
    "import itertools\n",
    "\n",
    "# Counts number of examples for each noun-verb\n",
    "# for those sentences having number of noun types each of {0,1,2,..max_noun_no,'Rest'}\n",
    "\n",
    "def per_nv_no_distr_stats(max_noun_no, max_verb_no):\n",
    "    \n",
    "    nv_distr_per_nv_no = {}\n",
    "    ex_count_per_nv_no = {}\n",
    "    \n",
    "    for i in list(range(0,max_noun_no+1)) + ['Rest']:\n",
    "        for j in list(range(0,max_verb_no+1)) + ['Rest']:\n",
    "            nv_distr_per_nv_no[(i,j)] = {}\n",
    "            ex_count_per_nv_no[(i,j)] = 0 \n",
    "        \n",
    "    net_unique_nvs = set()\n",
    "    \n",
    "    def put_words_in_dict(d, ws):\n",
    "        for w in ws:\n",
    "            if w not in d:\n",
    "                d[w] = 1\n",
    "            else:\n",
    "                d[w] += 1\n",
    "    \n",
    "    for item in coco_train_anno_all['annotations']:\n",
    "        tokens = tokenizer.tokenize(item['caption'])\n",
    "        noun_types_per_ex = set()\n",
    "        verb_types_per_ex = set()\n",
    "        \n",
    "        for word, pos in nltk.pos_tag(tokens):\n",
    "            if 'NN' in pos:\n",
    "                noun_types_per_ex.add(word)\n",
    "            elif 'VB' in pos:\n",
    "                verb_types_per_ex.add(word)               \n",
    "                \n",
    "        no_noun_types_per_ex = len(noun_types_per_ex)\n",
    "        no_verb_types_per_ex = len(verb_types_per_ex)\n",
    "        no_nv_types_per_ex = (no_noun_types_per_ex, no_verb_types_per_ex)\n",
    "        if no_noun_types_per_ex > 0 and no_verb_types_per_ex > 0:\n",
    "            nv_types_per_ex = list(itertools.product(noun_types_per_ex, verb_types_per_ex))\n",
    "        \n",
    "        if no_nv_types_per_ex == (0,0):\n",
    "            ex_count_per_nv_no[(0,0)] += 1\n",
    "            continue\n",
    "            \n",
    "        elif no_noun_types_per_ex == 0:\n",
    "            idx2 = no_verb_types_per_ex if no_verb_types_per_ex <= max_verb_no else 'Rest'\n",
    "            d_to_fill = nv_distr_per_nv_no[(0, idx2)]\n",
    "            v_to_fill = verb_types_per_ex\n",
    "            ex_count_per_nv_no[(0, idx2)] += 1       \n",
    "            \n",
    "        elif no_verb_types_per_ex == 0:\n",
    "            idx1 = no_noun_types_per_ex if no_noun_types_per_ex <= max_noun_no else 'Rest'\n",
    "            d_to_fill = nv_distr_per_nv_no[(idx1, 0)]\n",
    "            v_to_fill = noun_types_per_ex\n",
    "            ex_count_per_nv_no[(idx1, 0)] += 1                  \n",
    "            \n",
    "        elif no_noun_types_per_ex <= max_noun_no and no_verb_types_per_ex <= max_verb_no:\n",
    "            d_to_fill = nv_distr_per_nv_no[(no_noun_types_per_ex, no_verb_types_per_ex)]\n",
    "            v_to_fill = nv_types_per_ex\n",
    "            net_unique_nvs.update(nv_types_per_ex)\n",
    "            ex_count_per_nv_no[(no_noun_types_per_ex, no_verb_types_per_ex)] += 1\n",
    "            \n",
    "        elif no_noun_types_per_ex > max_noun_no and no_verb_types_per_ex > max_verb_no:\n",
    "            d_to_fill = nv_distr_per_nv_no[('Rest', 'Rest')]\n",
    "            v_to_fill = nv_types_per_ex\n",
    "            net_unique_nvs.update(nv_types_per_ex)\n",
    "            ex_count_per_nv_no[('Rest', 'Rest')] += 1\n",
    "            \n",
    "        elif no_noun_types_per_ex > max_noun_no:\n",
    "            d_to_fill = nv_distr_per_nv_no[('Rest', no_verb_types_per_ex)]\n",
    "            v_to_fill = nv_types_per_ex\n",
    "            net_unique_nvs.update(nv_types_per_ex)\n",
    "            ex_count_per_nv_no[('Rest', no_verb_types_per_ex)] += 1\n",
    "            \n",
    "        else:\n",
    "            d_to_fill = nv_distr_per_nv_no[(no_noun_types_per_ex, 'Rest')]\n",
    "            v_to_fill = nv_types_per_ex\n",
    "            net_unique_nvs.update(nv_types_per_ex)\n",
    "            ex_count_per_nv_no[(no_noun_types_per_ex, 'Rest')] += 1\n",
    "        \n",
    "        put_words_in_dict(d_to_fill, v_to_fill)\n",
    "                \n",
    "    return nv_distr_per_nv_no, ex_count_per_nv_no, net_unique_nvs"
   ]
  },
  {
   "cell_type": "code",
   "execution_count": null,
   "metadata": {},
   "outputs": [],
   "source": [
    "max_nv_no = 3\n",
    "# nv_distr_per_nv_no, ex_count_per_nv_no, net_unique_nvs = per_nv_no_distr_stats(max_nv_nv, max_nv_nv)\n",
    "\n",
    "# Loading from saved location\n",
    "with open('../../data/coco_stats/coco/noun_verb_stats.pkl', 'rb') as f:\n",
    "    nv_distr_per_nv_no, ex_count_per_nv_no, net_unique_nvs = pickle.load(f)"
   ]
  },
  {
   "cell_type": "code",
   "execution_count": null,
   "metadata": {},
   "outputs": [],
   "source": [
    "# with open('../../data/coco_stats/coco/noun_verb_stats.pkl', 'wb') as f:\n",
    "#     pickle.dump([nv_distr_per_nv_no, ex_count_per_nv_no, net_unique_nvs], f)"
   ]
  },
  {
   "cell_type": "code",
   "execution_count": null,
   "metadata": {},
   "outputs": [],
   "source": []
  }
 ],
 "metadata": {
  "environment": {
   "name": "pytorch-gpu.1-4.m46",
   "type": "gcloud",
   "uri": "gcr.io/deeplearning-platform-release/pytorch-gpu.1-4:m46"
  },
  "kernelspec": {
   "display_name": "Python 3",
   "language": "python",
   "name": "python3"
  },
  "language_info": {
   "codemirror_mode": {
    "name": "ipython",
    "version": 3
   },
   "file_extension": ".py",
   "mimetype": "text/x-python",
   "name": "python",
   "nbconvert_exporter": "python",
   "pygments_lexer": "ipython3",
   "version": "3.6.12"
  }
 },
 "nbformat": 4,
 "nbformat_minor": 4
}
